!git add Presentation2.ipynb
    !git commit -m "Add Colab notebook"
    !git push
myqubits = cirq.LineQubit.range(6)  #This is creating 6 qb's. Think of them as 6 tiny spinning pennies :)


mycircuit = cirq.Circuit ()  #creating/starting a fresh blank canvas in order to create the circuit


mycircuit.append(cirq.H(myqubits[0]))  #we're then putting H-gates' on each q-bit. Why? 'Cause H-gates makes the qb's have a constant state of superposition.
mycircuit.append(cirq.H(myqubits[1]))
mycircuit.append(cirq.H(myqubits[2]))
mycircuit.append(cirq.H(myqubits[3]))
mycircuit.append(cirq.H(myqubits[4]))
mycircuit.append(cirq.H(myqubits[5]))
