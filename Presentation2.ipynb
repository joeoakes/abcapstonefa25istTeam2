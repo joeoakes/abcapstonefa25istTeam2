# this just installs the needed package in order to display our circuit as 3d
!pip install cirq-web

# importing the needed libraries
import cirq
from cirq_web.circuits import Circuit3D

# here' again we're defining our 6 qb's
myqubits = cirq.LineQubit.range(6)


mycircuit = cirq.Circuit ()


mycircuit.append(cirq.H(myqubits[0]))
mycircuit.append(cirq.H(myqubits[1]))
mycircuit.append(cirq.H(myqubits[2]))
mycircuit.append(cirq.H(myqubits[3]))
mycircuit.append(cirq.H(myqubits[4]))
mycircuit.append(cirq.H(myqubits[5]))

# Display the interactive 3D circuit
Circuit3D(mycircuit)
