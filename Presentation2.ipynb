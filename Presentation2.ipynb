
!pip install cirq-web


import cirq
from cirq_web.circuits import Circuit3D


myqubits = cirq.LineQubit.range(6)


mycircuit = cirq.Circuit ()


mycircuit.append(cirq.H(myqubits[0]))
mycircuit.append(cirq.H(myqubits[1]))
mycircuit.append(cirq.H(myqubits[2]))
mycircuit.append(cirq.H(myqubits[3]))
mycircuit.append(cirq.H(myqubits[4]))
mycircuit.append(cirq.H(myqubits[5]))


Circuit3D(mycircuit)
