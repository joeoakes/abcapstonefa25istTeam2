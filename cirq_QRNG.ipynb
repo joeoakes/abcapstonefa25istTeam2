{
  "nbformat": 4,
  "nbformat_minor": 0,
  "metadata": {
    "colab": {
      "provenance": [],
      "gpuType": "T4",
      "authorship_tag": "ABX9TyPasWYz3NhBjSQo29p7z+hh",
      "include_colab_link": true
    },
    "kernelspec": {
      "name": "python3",
      "display_name": "Python 3"
    },
    "language_info": {
      "name": "python"
    }
  },
  "cells": [
    {
      "cell_type": "markdown",
      "metadata": {
        "id": "view-in-github",
        "colab_type": "text"
      },
      "source": [
        "<a href=\"https://colab.research.google.com/github/joeoakes/abcapstonefa25istTeam2/blob/main/cirq_QRNG.ipynb\" target=\"_parent\"><img src=\"https://colab.research.google.com/assets/colab-badge.svg\" alt=\"Open In Colab\"/></a>"
      ]
    },
    {
      "cell_type": "code",
      "execution_count": 7,
      "metadata": {
        "colab": {
          "base_uri": "https://localhost:8080/"
        },
        "id": "-cU6ZA4mKawt",
        "outputId": "71cb7da6-86d7-4ec8-e894-ff0a570b14e1"
      },
      "outputs": [
        {
          "output_type": "stream",
          "name": "stdout",
          "text": [
            "Requirement already satisfied: cirq in /usr/local/lib/python3.12/dist-packages (1.6.1)\n",
            "Requirement already satisfied: cirq-aqt==1.6.1 in /usr/local/lib/python3.12/dist-packages (from cirq) (1.6.1)\n",
            "Requirement already satisfied: cirq-core==1.6.1 in /usr/local/lib/python3.12/dist-packages (from cirq) (1.6.1)\n",
            "Requirement already satisfied: cirq-google==1.6.1 in /usr/local/lib/python3.12/dist-packages (from cirq) (1.6.1)\n",
            "Requirement already satisfied: cirq-ionq==1.6.1 in /usr/local/lib/python3.12/dist-packages (from cirq) (1.6.1)\n",
            "Requirement already satisfied: cirq-pasqal==1.6.1 in /usr/local/lib/python3.12/dist-packages (from cirq) (1.6.1)\n",
            "Requirement already satisfied: cirq-web==1.6.1 in /usr/local/lib/python3.12/dist-packages (from cirq) (1.6.1)\n",
            "Requirement already satisfied: requests~=2.32 in /usr/local/lib/python3.12/dist-packages (from cirq-aqt==1.6.1->cirq) (2.32.4)\n",
            "Requirement already satisfied: attrs>=21.3.0 in /usr/local/lib/python3.12/dist-packages (from cirq-core==1.6.1->cirq) (25.4.0)\n",
            "Requirement already satisfied: duet>=0.2.8 in /usr/local/lib/python3.12/dist-packages (from cirq-core==1.6.1->cirq) (0.2.9)\n",
            "Requirement already satisfied: matplotlib~=3.8 in /usr/local/lib/python3.12/dist-packages (from cirq-core==1.6.1->cirq) (3.10.0)\n",
            "Requirement already satisfied: networkx~=3.4 in /usr/local/lib/python3.12/dist-packages (from cirq-core==1.6.1->cirq) (3.5)\n",
            "Requirement already satisfied: numpy>=1.26 in /usr/local/lib/python3.12/dist-packages (from cirq-core==1.6.1->cirq) (2.0.2)\n",
            "Requirement already satisfied: pandas~=2.1 in /usr/local/lib/python3.12/dist-packages (from cirq-core==1.6.1->cirq) (2.2.2)\n",
            "Requirement already satisfied: sortedcontainers~=2.0 in /usr/local/lib/python3.12/dist-packages (from cirq-core==1.6.1->cirq) (2.4.0)\n",
            "Requirement already satisfied: scipy~=1.12 in /usr/local/lib/python3.12/dist-packages (from cirq-core==1.6.1->cirq) (1.16.2)\n",
            "Requirement already satisfied: sympy in /usr/local/lib/python3.12/dist-packages (from cirq-core==1.6.1->cirq) (1.13.3)\n",
            "Requirement already satisfied: typing_extensions>=4.2 in /usr/local/lib/python3.12/dist-packages (from cirq-core==1.6.1->cirq) (4.15.0)\n",
            "Requirement already satisfied: tqdm>=4.12 in /usr/local/lib/python3.12/dist-packages (from cirq-core==1.6.1->cirq) (4.67.1)\n",
            "Requirement already satisfied: google-api-core~=2.22 in /usr/local/lib/python3.12/dist-packages (from google-api-core[grpc]~=2.22->cirq-google==1.6.1->cirq) (2.26.0)\n",
            "Requirement already satisfied: proto-plus~=1.25 in /usr/local/lib/python3.12/dist-packages (from cirq-google==1.6.1->cirq) (1.26.1)\n",
            "Requirement already satisfied: protobuf<6.0dev,>=5.26.1 in /usr/local/lib/python3.12/dist-packages (from cirq-google==1.6.1->cirq) (5.29.5)\n",
            "Requirement already satisfied: typedunits in /usr/local/lib/python3.12/dist-packages (from cirq-google==1.6.1->cirq) (0.0.1)\n",
            "Requirement already satisfied: googleapis-common-protos<2.0.0,>=1.56.2 in /usr/local/lib/python3.12/dist-packages (from google-api-core~=2.22->google-api-core[grpc]~=2.22->cirq-google==1.6.1->cirq) (1.70.0)\n",
            "Requirement already satisfied: google-auth<3.0.0,>=2.14.1 in /usr/local/lib/python3.12/dist-packages (from google-api-core~=2.22->google-api-core[grpc]~=2.22->cirq-google==1.6.1->cirq) (2.38.0)\n",
            "Requirement already satisfied: grpcio<2.0.0,>=1.33.2 in /usr/local/lib/python3.12/dist-packages (from google-api-core[grpc]~=2.22->cirq-google==1.6.1->cirq) (1.75.1)\n",
            "Requirement already satisfied: grpcio-status<2.0.0,>=1.33.2 in /usr/local/lib/python3.12/dist-packages (from google-api-core[grpc]~=2.22->cirq-google==1.6.1->cirq) (1.71.2)\n",
            "Requirement already satisfied: contourpy>=1.0.1 in /usr/local/lib/python3.12/dist-packages (from matplotlib~=3.8->cirq-core==1.6.1->cirq) (1.3.3)\n",
            "Requirement already satisfied: cycler>=0.10 in /usr/local/lib/python3.12/dist-packages (from matplotlib~=3.8->cirq-core==1.6.1->cirq) (0.12.1)\n",
            "Requirement already satisfied: fonttools>=4.22.0 in /usr/local/lib/python3.12/dist-packages (from matplotlib~=3.8->cirq-core==1.6.1->cirq) (4.60.1)\n",
            "Requirement already satisfied: kiwisolver>=1.3.1 in /usr/local/lib/python3.12/dist-packages (from matplotlib~=3.8->cirq-core==1.6.1->cirq) (1.4.9)\n",
            "Requirement already satisfied: packaging>=20.0 in /usr/local/lib/python3.12/dist-packages (from matplotlib~=3.8->cirq-core==1.6.1->cirq) (25.0)\n",
            "Requirement already satisfied: pillow>=8 in /usr/local/lib/python3.12/dist-packages (from matplotlib~=3.8->cirq-core==1.6.1->cirq) (11.3.0)\n",
            "Requirement already satisfied: pyparsing>=2.3.1 in /usr/local/lib/python3.12/dist-packages (from matplotlib~=3.8->cirq-core==1.6.1->cirq) (3.2.5)\n",
            "Requirement already satisfied: python-dateutil>=2.7 in /usr/local/lib/python3.12/dist-packages (from matplotlib~=3.8->cirq-core==1.6.1->cirq) (2.9.0.post0)\n",
            "Requirement already satisfied: pytz>=2020.1 in /usr/local/lib/python3.12/dist-packages (from pandas~=2.1->cirq-core==1.6.1->cirq) (2025.2)\n",
            "Requirement already satisfied: tzdata>=2022.7 in /usr/local/lib/python3.12/dist-packages (from pandas~=2.1->cirq-core==1.6.1->cirq) (2025.2)\n",
            "Requirement already satisfied: charset_normalizer<4,>=2 in /usr/local/lib/python3.12/dist-packages (from requests~=2.32->cirq-aqt==1.6.1->cirq) (3.4.4)\n",
            "Requirement already satisfied: idna<4,>=2.5 in /usr/local/lib/python3.12/dist-packages (from requests~=2.32->cirq-aqt==1.6.1->cirq) (3.11)\n",
            "Requirement already satisfied: urllib3<3,>=1.21.1 in /usr/local/lib/python3.12/dist-packages (from requests~=2.32->cirq-aqt==1.6.1->cirq) (2.5.0)\n",
            "Requirement already satisfied: certifi>=2017.4.17 in /usr/local/lib/python3.12/dist-packages (from requests~=2.32->cirq-aqt==1.6.1->cirq) (2025.10.5)\n",
            "Requirement already satisfied: mpmath<1.4,>=1.1.0 in /usr/local/lib/python3.12/dist-packages (from sympy->cirq-core==1.6.1->cirq) (1.3.0)\n",
            "Requirement already satisfied: cython>=3.0.0 in /usr/local/lib/python3.12/dist-packages (from typedunits->cirq-google==1.6.1->cirq) (3.0.12)\n",
            "Requirement already satisfied: cachetools<6.0,>=2.0.0 in /usr/local/lib/python3.12/dist-packages (from google-auth<3.0.0,>=2.14.1->google-api-core~=2.22->google-api-core[grpc]~=2.22->cirq-google==1.6.1->cirq) (5.5.2)\n",
            "Requirement already satisfied: pyasn1-modules>=0.2.1 in /usr/local/lib/python3.12/dist-packages (from google-auth<3.0.0,>=2.14.1->google-api-core~=2.22->google-api-core[grpc]~=2.22->cirq-google==1.6.1->cirq) (0.4.2)\n",
            "Requirement already satisfied: rsa<5,>=3.1.4 in /usr/local/lib/python3.12/dist-packages (from google-auth<3.0.0,>=2.14.1->google-api-core~=2.22->google-api-core[grpc]~=2.22->cirq-google==1.6.1->cirq) (4.9.1)\n",
            "Requirement already satisfied: six>=1.5 in /usr/local/lib/python3.12/dist-packages (from python-dateutil>=2.7->matplotlib~=3.8->cirq-core==1.6.1->cirq) (1.17.0)\n",
            "Requirement already satisfied: pyasn1<0.7.0,>=0.6.1 in /usr/local/lib/python3.12/dist-packages (from pyasn1-modules>=0.2.1->google-auth<3.0.0,>=2.14.1->google-api-core~=2.22->google-api-core[grpc]~=2.22->cirq-google==1.6.1->cirq) (0.6.1)\n",
            "Circuit:\n",
            "(0, 0): ───X^0.5───M('m')───\n",
            "Results:\n",
            "m=01010000110101011110001110010011001100101001111010\n",
            "Decimal result: 355518305323642\n",
            "Elapsed time:0.0036 seconds\n"
          ]
        }
      ],
      "source": [
        "!pip install cirq\n",
        "import cirq\n",
        "import time\n",
        "\n",
        "start_time = time.time()\n",
        "\n",
        "# Pick a qubit\n",
        "# Cirq organizes qubits on a 2D grid for physical layout convenience.\n",
        "# Here, GridQubit(0, 0) means we're selecting the qubit located at row 0, column 0 in that grid.\n",
        "qubit = cirq.GridQubit(0, 0)\n",
        "\n",
        "# Create a quantum circuit using Cirq.\n",
        "# A circuit is a sequence of quantum operations (called gates) that are applied to one or more qubits in a specfic order.\n",
        "circuit = cirq.Circuit(\n",
        "\n",
        "    # Apply the x (Pauli-X) gate to the qubit raised to the power of 0.5.\n",
        "    # The X gate is like a classical NOT gate - it flips |0> to |1> and vice versa.\n",
        "    # The **0.5 exponent means we're applying the *square root* of X, which puts the qubit into a superposition state between |0> and |1>.\n",
        "    cirq.X(qubit)**0.5,\n",
        "    cirq.measure(qubit, key = 'm')\n",
        ")\n",
        "print(\"Circuit:\")\n",
        "print(circuit)\n",
        "\n",
        "# Simulate the circuit several times.\n",
        "simulator = cirq.Simulator()\n",
        "result = simulator.run(circuit, repetitions = 50)\n",
        "print(\"Results:\")\n",
        "print(result)\n",
        "\n",
        "\n",
        "m = result.measurements['m']\n",
        "\n",
        "if (m.ndim == 2 and m.shape[1] == 1):\n",
        "  # Initialize a variable to hold the converted decimal value.\n",
        "  decimal_result = 0\n",
        "\n",
        "  for i, bit in enumerate(m.flatten(), 1):\n",
        "    decimal_result += int(bit) * (2 ** (len(m.flatten()) - i))\n",
        "\n",
        "print(\"Decimal result:\", decimal_result)\n",
        "\n",
        "end_time = time.time()\n",
        "elapsed_time = end_time - start_time\n",
        "print(f\"Elapsed time:{elapsed_time:.4f} seconds\")"
      ]
    }
  ]
}